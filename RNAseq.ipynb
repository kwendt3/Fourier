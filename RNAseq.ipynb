{
 "cells": [
  {
   "cell_type": "code",
   "execution_count": 17,
   "metadata": {},
   "outputs": [
    {
     "name": "stdout",
     "output_type": "stream",
     "text": [
      "-rw-r--r--@ 1 kristywendt  staff  8703 Feb 19 23:01 /Users/kristywendt/Desktop/geneexpress.csv\r\n"
     ]
    }
   ],
   "source": [
    "!ls -l /Users/kristywendt/Desktop/geneexpress.csv"
   ]
  },
  {
   "cell_type": "code",
   "execution_count": 18,
   "metadata": {},
   "outputs": [
    {
     "name": "stdout",
     "output_type": "stream",
     "text": [
      "/Users/kristywendt\r\n"
     ]
    }
   ],
   "source": [
    "!pwd"
   ]
  },
  {
   "cell_type": "code",
   "execution_count": 19,
   "metadata": {},
   "outputs": [],
   "source": [
    "import numpy as np\n",
    "import pandas as pd\n",
    "import seaborn as sns\n",
    "import matplotlib.pyplot as plt"
   ]
  },
  {
   "cell_type": "code",
   "execution_count": 20,
   "metadata": {},
   "outputs": [
    {
     "data": {
      "text/html": [
       "<div>\n",
       "<style scoped>\n",
       "    .dataframe tbody tr th:only-of-type {\n",
       "        vertical-align: middle;\n",
       "    }\n",
       "\n",
       "    .dataframe tbody tr th {\n",
       "        vertical-align: top;\n",
       "    }\n",
       "\n",
       "    .dataframe thead th {\n",
       "        text-align: right;\n",
       "    }\n",
       "</style>\n",
       "<table border=\"1\" class=\"dataframe\">\n",
       "  <thead>\n",
       "    <tr style=\"text-align: right;\">\n",
       "      <th></th>\n",
       "      <th>name</th>\n",
       "      <th>exp_1</th>\n",
       "      <th>exp_2</th>\n",
       "      <th>exp_3</th>\n",
       "      <th>exp_4</th>\n",
       "      <th>exp_5</th>\n",
       "      <th>exp_6</th>\n",
       "      <th>exp_7</th>\n",
       "      <th>exp_8</th>\n",
       "      <th>exp_9</th>\n",
       "      <th>exp_10</th>\n",
       "    </tr>\n",
       "  </thead>\n",
       "  <tbody>\n",
       "    <tr>\n",
       "      <th>0</th>\n",
       "      <td>gene_1</td>\n",
       "      <td>55.17</td>\n",
       "      <td>51.84</td>\n",
       "      <td>55.91</td>\n",
       "      <td>56.87</td>\n",
       "      <td>55.70</td>\n",
       "      <td>54.62</td>\n",
       "      <td>55.24</td>\n",
       "      <td>54.10</td>\n",
       "      <td>53.80</td>\n",
       "      <td>54.89</td>\n",
       "    </tr>\n",
       "    <tr>\n",
       "      <th>1</th>\n",
       "      <td>gene_2</td>\n",
       "      <td>55.04</td>\n",
       "      <td>52.23</td>\n",
       "      <td>55.03</td>\n",
       "      <td>56.36</td>\n",
       "      <td>56.13</td>\n",
       "      <td>53.29</td>\n",
       "      <td>54.39</td>\n",
       "      <td>56.40</td>\n",
       "      <td>55.83</td>\n",
       "      <td>55.76</td>\n",
       "    </tr>\n",
       "    <tr>\n",
       "      <th>2</th>\n",
       "      <td>gene_3</td>\n",
       "      <td>54.68</td>\n",
       "      <td>55.86</td>\n",
       "      <td>57.09</td>\n",
       "      <td>53.82</td>\n",
       "      <td>54.42</td>\n",
       "      <td>55.52</td>\n",
       "      <td>56.63</td>\n",
       "      <td>53.67</td>\n",
       "      <td>55.00</td>\n",
       "      <td>54.52</td>\n",
       "    </tr>\n",
       "    <tr>\n",
       "      <th>3</th>\n",
       "      <td>gene_4</td>\n",
       "      <td>54.98</td>\n",
       "      <td>55.87</td>\n",
       "      <td>56.15</td>\n",
       "      <td>53.80</td>\n",
       "      <td>57.93</td>\n",
       "      <td>56.52</td>\n",
       "      <td>53.80</td>\n",
       "      <td>54.90</td>\n",
       "      <td>53.89</td>\n",
       "      <td>54.77</td>\n",
       "    </tr>\n",
       "    <tr>\n",
       "      <th>4</th>\n",
       "      <td>gene_5</td>\n",
       "      <td>11.01</td>\n",
       "      <td>19.56</td>\n",
       "      <td>31.63</td>\n",
       "      <td>39.77</td>\n",
       "      <td>49.66</td>\n",
       "      <td>61.49</td>\n",
       "      <td>68.14</td>\n",
       "      <td>80.15</td>\n",
       "      <td>91.10</td>\n",
       "      <td>101.56</td>\n",
       "    </tr>\n",
       "    <tr>\n",
       "      <th>...</th>\n",
       "      <td>...</td>\n",
       "      <td>...</td>\n",
       "      <td>...</td>\n",
       "      <td>...</td>\n",
       "      <td>...</td>\n",
       "      <td>...</td>\n",
       "      <td>...</td>\n",
       "      <td>...</td>\n",
       "      <td>...</td>\n",
       "      <td>...</td>\n",
       "      <td>...</td>\n",
       "    </tr>\n",
       "    <tr>\n",
       "      <th>94</th>\n",
       "      <td>gene_95</td>\n",
       "      <td>9.63</td>\n",
       "      <td>21.38</td>\n",
       "      <td>30.10</td>\n",
       "      <td>40.06</td>\n",
       "      <td>51.89</td>\n",
       "      <td>60.69</td>\n",
       "      <td>70.34</td>\n",
       "      <td>80.11</td>\n",
       "      <td>89.85</td>\n",
       "      <td>96.61</td>\n",
       "    </tr>\n",
       "    <tr>\n",
       "      <th>95</th>\n",
       "      <td>gene_96</td>\n",
       "      <td>54.28</td>\n",
       "      <td>55.82</td>\n",
       "      <td>53.95</td>\n",
       "      <td>57.27</td>\n",
       "      <td>54.42</td>\n",
       "      <td>52.86</td>\n",
       "      <td>57.21</td>\n",
       "      <td>54.10</td>\n",
       "      <td>57.31</td>\n",
       "      <td>57.12</td>\n",
       "    </tr>\n",
       "    <tr>\n",
       "      <th>96</th>\n",
       "      <td>gene_97</td>\n",
       "      <td>55.45</td>\n",
       "      <td>53.98</td>\n",
       "      <td>54.06</td>\n",
       "      <td>56.69</td>\n",
       "      <td>53.13</td>\n",
       "      <td>55.71</td>\n",
       "      <td>54.14</td>\n",
       "      <td>54.25</td>\n",
       "      <td>54.50</td>\n",
       "      <td>56.12</td>\n",
       "    </tr>\n",
       "    <tr>\n",
       "      <th>97</th>\n",
       "      <td>gene_98</td>\n",
       "      <td>102.27</td>\n",
       "      <td>89.41</td>\n",
       "      <td>81.69</td>\n",
       "      <td>70.10</td>\n",
       "      <td>62.20</td>\n",
       "      <td>49.71</td>\n",
       "      <td>39.84</td>\n",
       "      <td>30.70</td>\n",
       "      <td>18.65</td>\n",
       "      <td>7.95</td>\n",
       "    </tr>\n",
       "    <tr>\n",
       "      <th>98</th>\n",
       "      <td>gene_99</td>\n",
       "      <td>54.34</td>\n",
       "      <td>54.18</td>\n",
       "      <td>53.17</td>\n",
       "      <td>56.18</td>\n",
       "      <td>56.07</td>\n",
       "      <td>55.45</td>\n",
       "      <td>55.34</td>\n",
       "      <td>54.69</td>\n",
       "      <td>54.58</td>\n",
       "      <td>55.96</td>\n",
       "    </tr>\n",
       "  </tbody>\n",
       "</table>\n",
       "<p>99 rows × 11 columns</p>\n",
       "</div>"
      ],
      "text/plain": [
       "    name      exp_1     exp_2     exp_3     exp_4     exp_5     exp_6     \\\n",
       "0   gene_1       55.17     51.84     55.91     56.87     55.70     54.62   \n",
       "1   gene_2       55.04     52.23     55.03     56.36     56.13     53.29   \n",
       "2   gene_3       54.68     55.86     57.09     53.82     54.42     55.52   \n",
       "3   gene_4       54.98     55.87     56.15     53.80     57.93     56.52   \n",
       "4   gene_5       11.01     19.56     31.63     39.77     49.66     61.49   \n",
       "..       ...       ...       ...       ...       ...       ...       ...   \n",
       "94  gene_95       9.63     21.38     30.10     40.06     51.89     60.69   \n",
       "95  gene_96      54.28     55.82     53.95     57.27     54.42     52.86   \n",
       "96  gene_97      55.45     53.98     54.06     56.69     53.13     55.71   \n",
       "97  gene_98     102.27     89.41     81.69     70.10     62.20     49.71   \n",
       "98  gene_99      54.34     54.18     53.17     56.18     56.07     55.45   \n",
       "\n",
       "    exp_7     exp_8     exp_9     exp_10  \n",
       "0      55.24     54.10     53.80   54.89  \n",
       "1      54.39     56.40     55.83   55.76  \n",
       "2      56.63     53.67     55.00   54.52  \n",
       "3      53.80     54.90     53.89   54.77  \n",
       "4      68.14     80.15     91.10  101.56  \n",
       "..       ...       ...       ...     ...  \n",
       "94     70.34     80.11     89.85   96.61  \n",
       "95     57.21     54.10     57.31   57.12  \n",
       "96     54.14     54.25     54.50   56.12  \n",
       "97     39.84     30.70     18.65    7.95  \n",
       "98     55.34     54.69     54.58   55.96  \n",
       "\n",
       "[99 rows x 11 columns]"
      ]
     },
     "execution_count": 20,
     "metadata": {},
     "output_type": "execute_result"
    }
   ],
   "source": [
    "pd.read_csv (\"/Users/kristywendt/Downloads/geneexpress.csv\")"
   ]
  },
  {
   "cell_type": "code",
   "execution_count": 21,
   "metadata": {},
   "outputs": [],
   "source": [
    "uniform_data = np.random.rand(10, 12)"
   ]
  },
  {
   "cell_type": "code",
   "execution_count": 22,
   "metadata": {},
   "outputs": [
    {
     "data": {
      "image/png": "[encoded data removed]",
      "text/plain": [
       "<Figure size 432x288 with 2 Axes>"
      ]
     },
     "metadata": {
      "needs_background": "light"
     },
     "output_type": "display_data"
    }
   ],
   "source": [
    "ax = sns.heatmap(uniform_data)"
   ]
  },
  {
   "cell_type": "code",
   "execution_count": null,
   "metadata": {},
   "outputs": [],
   "source": []
  }
 ],
 "metadata": {
  "kernelspec": {
   "display_name": "Python 3",
   "language": "python",
   "name": "python3"
  },
  "language_info": {
   "codemirror_mode": {
    "name": "ipython",
    "version": 3
   },
   "file_extension": ".py",
   "mimetype": "text/x-python",
   "name": "python",
   "nbconvert_exporter": "python",
   "pygments_lexer": "ipython3",
   "version": "3.8.5"
  }
 },
 "nbformat": 4,
 "nbformat_minor": 4
}
